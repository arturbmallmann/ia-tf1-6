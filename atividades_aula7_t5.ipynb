{
 "cells": [
  {
   "cell_type": "markdown",
   "metadata": {},
   "source": [
    "Tarefa 4 - MPL 4x3x2\n",
    "\n",
    "A seguir, você implementará uma rede 4x3x2 orientada a frente, com funções de ativação sigmóide em ambas as\n",
    "camadas.\n",
    "\n",
    "Coisas a fazer:\n",
    "\n",
    "● Calcular o input da camada oculta.\n",
    "\n",
    "● Calcular o output da camada oculta.\n",
    "\n",
    "● Calcular o input da camada de output.\n",
    "\n",
    "● Calcular o output da rede."
   ]
  },
  {
   "cell_type": "code",
   "execution_count": 1,
   "metadata": {},
   "outputs": [],
   "source": [
    "import numpy as np\n",
    "sigmoid = lambda x: 1/(1 + np.exp(-x))\n",
    "\n",
    "inputs_ = np.array([0.1,0.3,0.5,0.2])\n",
    "# tamanho: n_inputs é implícito\n",
    "# 4x3x2\n",
    "size = [len(inputs_),3,2] #camada interna e de saída eu decido\n",
    "sigmoid_prime = lambda x: x * (1 - x) #poupando recursos entra somente o output pois já calculou-se o sigmoid"
   ]
  },
  {
   "cell_type": "markdown",
   "metadata": {},
   "source": [
    "Suvenier rsrsrs:"
   ]
  },
  {
   "cell_type": "code",
   "execution_count": 2,
   "metadata": {},
   "outputs": [
    {
     "name": "stdout",
     "output_type": "stream",
     "text": [
      "[0%----------------------------------------------------]\n",
      "[=====10%----------------------------------------------]\n",
      "[==========20%-----------------------------------------]\n",
      "[===============30%------------------------------------]\n",
      "[====================40%-------------------------------]\n",
      "[=========================50%--------------------------]\n",
      "[==============================60%---------------------]\n",
      "[===================================70%----------------]\n",
      "[========================================80%-----------]\n",
      "[=============================================90%------]\n",
      "[==================================================100%]\n"
     ]
    }
   ],
   "source": [
    "\n",
    "class barrinha:\n",
    "    def __init__(self,total):\n",
    "        self.total = total -1\n",
    "        self.value = 0\n",
    "        self.foo = str(\"[\"+\"=\"*50+\"]\")\n",
    "        self.bar = str(\"[\"+\"-\"*50+\"]\")\n",
    "    def __str__(self):\n",
    "        pc = self.value/self.total\n",
    "        pcst = str(int(pc*100))\n",
    "        return self.foo[:1+int(pc*50)] +pcst+\"%---\"[:-len(pcst)]+ self.bar[1+int(pc*50):]\n",
    "    def refresh(self, value):\n",
    "        self.value = value\n",
    "\n",
    "        \n",
    "t = 11\n",
    "b = barrinha(t)\n",
    "for i in range(t):\n",
    "    b.refresh(i)\n",
    "    print(b)"
   ]
  },
  {
   "cell_type": "markdown",
   "metadata": {},
   "source": [
    "Espero conseguir fazer uma rede neural totalmente flexível em relação ao seu tamanho:"
   ]
  },
  {
   "cell_type": "code",
   "execution_count": 3,
   "metadata": {},
   "outputs": [
    {
     "data": {
      "text/plain": [
       "[array([[ 0.98662086, -0.13498033, -0.38787779],\n",
       "        [-0.11505656,  0.1423348 ,  0.57008636],\n",
       "        [ 0.18085618,  0.42912297,  1.03839667],\n",
       "        [-0.8872061 , -0.92926534,  0.18379668]]),\n",
       " array([[-0.25966164,  0.45332473],\n",
       "        [ 0.4456483 ,  0.18985328],\n",
       "        [ 0.11752679,  0.59328418]])]"
      ]
     },
     "execution_count": 3,
     "metadata": {},
     "output_type": "execute_result"
    }
   ],
   "source": [
    "weights = [np.random.normal(scale=inp**-.5, size=(inp,h)) for inp,h in zip(size,size[1:]) ]\n",
    "originais = weights\n",
    "bias = 0\n",
    "weights"
   ]
  },
  {
   "cell_type": "code",
   "execution_count": 120,
   "metadata": {
    "scrolled": true
   },
   "outputs": [
    {
     "name": "stdout",
     "output_type": "stream",
     "text": [
      "dw: [array([[0., 0., 0., 0.],\n",
      "       [0., 0., 0., 0.],\n",
      "       [0., 0., 0., 0.]]), array([[0., 0., 0.],\n",
      "       [0., 0., 0.]])]\n",
      "wires: [array([0.1, 0.3, 0.5, 0.2]), 0, 0]\n"
     ]
    }
   ],
   "source": [
    "y = [0.2, 0.3] #valor esperado\n",
    "learnrate = 0.5\n",
    "#loop\n",
    "weights = originais #pra não dar reset todas as vezes e poder comparar rodadas com mesmos pesos de início\n",
    "#it = 0\n",
    "dw = [np.zeros((y,x)) for x,y in zip(size,size[1:])]\n",
    "print(\"dw: {}\".format(dw))\n",
    "wires = [inputs_] + [0] * (len(size)-1)\n",
    "error_term = [0] * (len(size)-1)\n",
    "print(\"wires: {}\".format(wires))\n",
    "grads = [0] * (len(size)-1)\n",
    "\n",
    "#for it in range(0,100): #100 ciclos a princípio\n",
    "def foward(): #apenas 1 ciclo para a questão numero 4\n",
    "    for camada in range(0,len(size) - 1):\n",
    "        h = np.dot(wires[camada], weights[camada]) #multiplica peso e entrada e faz o somatório\n",
    "        output = sigmoid(h)\n",
    "        #error_term[camada+1] = np.zeros((len(output), size[camada+1]))\n",
    "        wires[camada+1] = output\n",
    "        print (\"=\"*camada+\">camada:{}\\ninput: {}\\noutput: {}\".format(camada,wires[camada],output))\n",
    "\n",
    "        grads[camada]=sigmoid_prime(output)\n",
    "        print(\"gradiente: {}\".format(grads[camada]))\n",
    "    yield foward()\n",
    "     #   error_term = erro * output_grad\n",
    "     #   print (\"error term: {}\".format(error_term))\n",
    "      #  dw[camada] += [x*error_term for x in inputs[camada]] #Atualiza o passo! lista do np para isso funcionar\n",
    "      #  weights +=  [learnrate * w / it for w in dw] #atulizar pesos\n",
    "      #  print (\"passo: {}, pesos: {}\\n\".format(dw,weights))\n",
    "      #  erro_m = erro**2/it"
   ]
  },
  {
   "cell_type": "markdown",
   "metadata": {},
   "source": [
    "BackTracking:"
   ]
  },
  {
   "cell_type": "code",
   "execution_count": 127,
   "metadata": {},
   "outputs": [],
   "source": [
    "def backward(epoch):\n",
    "    print(\"\\nBack Propagation:\")\n",
    "    camada = -1 #última da lista de camadas\n",
    "    erro = y - wires[camada]\n",
    "    print(\"inputs outputs: {}\\n\".format(wires))\n",
    "    error_term[camada] = erro * grads[camada] # err camada de saída * f'\n",
    "    error_term[camada-1] =  (error_term[camada]* weights[camada]) * grads[camada] # err camada oculta\n",
    "   # print(\"error_term: {}\".format(error_term))\n",
    "   # print(\"err_cam: {}\\nw_cam-1: {}\\ngrads_cam-1: {}\\n\".format( error_term[camada], weights[camada], grads[camada-1]))\n",
    "    print(\"saida {}:\".format(( error_term[camada]* weights[camada]) * grads[camada] ) )\n",
    "    print(\"=\"*(len(size)-1+camada)+\">camada {}\\ninput : {}\\noutput: {}\".format(camada + len(size)-1, wires[camada-1],wires[camada]))\n",
    "\n",
    "    print(\"erro: {}\".format(erro))\n",
    "    print(\"error_term: {}\".format(error_term))\n",
    "    print(\"pesos: {}\".format(weights[camada]))\n",
    "    dw[camada] += [x*error_term[camada] for x in wires[camada-1]] #Atualiza o passo! lista do np para isso funcionar\n",
    "#    weights[camada] +=  [learnrate * w / epoch for w in dw[camada]] #atulizar pesos\n",
    "#    weights[camada] +=  [learnrate * w / epoch for w in dw[camada]] #atulizar pesos\n",
    "    atpeso = np.dot (learnrate / epoch+1,dw[camada])\n",
    "    weights [camada] += atpeso\n",
    "    for camada in range(camada - 1, -len(size), -1): # à partir da penúltima, visto que a última já sofreu a correção\n",
    "        print(\"=\"*(len(size)-1+camada)+\">camada {}\\ninput : {}\\noutput: {}\".format(camada + len(size)-1, wires[camada-1],wires[camada]))\n",
    "        if (len(size)-1+camada) != 0:\n",
    "            print((error_term[camada], weights[camada]))\n",
    "            error_term[camada-1] =  (error_term[camada]* weights[camada]) * grads[camada]\n",
    "       # dw[camada] += error_term[camada]\n",
    "        print(\"dwcamada:\\n{}\".format(dw))\n",
    "        print(\"error_term:\\n{}\".format(error_term[camada]))\n",
    "   #     dw[camada] += wires[camada-1]*error_term[camada]\n",
    "   #     weights[camada] += np.dot (learnrate / epoch+1,dw[camada])\n",
    "        pass\n",
    "    yield backward(epoch)"
   ]
  },
  {
   "cell_type": "code",
   "execution_count": 128,
   "metadata": {},
   "outputs": [
    {
     "name": "stdout",
     "output_type": "stream",
     "text": [
      "epoch: 1/10 [0%----------------------------------------------------]\n",
      "wires:\n",
      " [array([0.1, 0.3, 0.5, 0.2]), array([0.49428325, 0.51447366, 0.66556545]), array([7.82517411e-11, 9.76127460e-09])]\n",
      "gradientes:\n",
      " [array([0.24996732, 0.24979051, 0.22258808]), array([7.82517411e-11, 9.76127450e-09])]\n",
      "\n",
      "\n",
      ">camada:0\n",
      "input: [0.1 0.3 0.5 0.2]\n",
      "output: [0.49428325 0.51447366 0.66556545]\n",
      "gradiente: [0.24996732 0.24979051 0.22258808]\n",
      "=>camada:1\n",
      "input: [0.49428325 0.51447366 0.66556545]\n",
      "output: [7.82517411e-11 9.76127460e-09]\n",
      "gradiente: [7.82517411e-11 9.76127450e-09]\n",
      "\n",
      "Back Propagation:\n",
      "inputs outputs: [array([0.1, 0.3, 0.5, 0.2]), array([0.49428325, 0.51447366, 0.66556545]), array([7.82517411e-11, 9.76127460e-09])]\n",
      "\n",
      "saida [[-1.52292812e-20 -2.71430651e-16]\n",
      " [-1.49746054e-20 -2.90578590e-16]\n",
      " [-1.99345043e-20 -3.65978189e-16]]:\n",
      "=>camada 1\n",
      "input : [0.49428325 0.51447366 0.66556545]\n",
      "output: [7.82517411e-11 9.76127460e-09]\n",
      "erro: [0.2        0.29999999]\n",
      "error_term: [array([[-1.52292812e-20, -2.71430651e-16],\n",
      "       [-1.49746054e-20, -2.90578590e-16],\n",
      "       [-1.99345043e-20, -3.65978189e-16]]), array([1.56503482e-11, 2.92838226e-09])]\n",
      "pesos: [[-12.43544669  -9.49564774]\n",
      " [-12.22749157 -10.16551346]\n",
      " [-16.27748957 -12.80327018]]\n"
     ]
    },
    {
     "ename": "ValueError",
     "evalue": "operands could not be broadcast together with shapes (2,3) (3,2) (2,3) ",
     "output_type": "error",
     "traceback": [
      "\u001b[0;31m---------------------------------------------------------------------------\u001b[0m",
      "\u001b[0;31mValueError\u001b[0m                                Traceback (most recent call last)",
      "\u001b[0;32m<ipython-input-128-42f3365b3f91>\u001b[0m in \u001b[0;36m<module>\u001b[0;34m\u001b[0m\n\u001b[1;32m      8\u001b[0m     \u001b[0mprint\u001b[0m\u001b[0;34m(\u001b[0m\u001b[0;34m'\\n'\u001b[0m\u001b[0;34m)\u001b[0m\u001b[0;34m\u001b[0m\u001b[0;34m\u001b[0m\u001b[0m\n\u001b[1;32m      9\u001b[0m     \u001b[0mnext\u001b[0m\u001b[0;34m(\u001b[0m\u001b[0mfoward\u001b[0m\u001b[0;34m(\u001b[0m\u001b[0;34m)\u001b[0m\u001b[0;34m)\u001b[0m\u001b[0;34m\u001b[0m\u001b[0;34m\u001b[0m\u001b[0m\n\u001b[0;32m---> 10\u001b[0;31m     \u001b[0mnext\u001b[0m\u001b[0;34m(\u001b[0m\u001b[0mbackward\u001b[0m\u001b[0;34m(\u001b[0m\u001b[0mepoch\u001b[0m \u001b[0;34m+\u001b[0m \u001b[0;36m1\u001b[0m\u001b[0;34m)\u001b[0m\u001b[0;34m)\u001b[0m\u001b[0;34m\u001b[0m\u001b[0;34m\u001b[0m\u001b[0m\n\u001b[0m\u001b[1;32m     11\u001b[0m     \u001b[0mprint\u001b[0m\u001b[0;34m(\u001b[0m\u001b[0;34m'='\u001b[0m\u001b[0;34m*\u001b[0m\u001b[0;36m100\u001b[0m\u001b[0;34m+\u001b[0m\u001b[0;34m'\\n'\u001b[0m\u001b[0;34m)\u001b[0m\u001b[0;34m\u001b[0m\u001b[0;34m\u001b[0m\u001b[0m\n",
      "\u001b[0;32m<ipython-input-127-af3b44d87185>\u001b[0m in \u001b[0;36mbackward\u001b[0;34m(epoch)\u001b[0m\n\u001b[1;32m     14\u001b[0m     \u001b[0mprint\u001b[0m\u001b[0;34m(\u001b[0m\u001b[0;34m\"error_term: {}\"\u001b[0m\u001b[0;34m.\u001b[0m\u001b[0mformat\u001b[0m\u001b[0;34m(\u001b[0m\u001b[0merror_term\u001b[0m\u001b[0;34m)\u001b[0m\u001b[0;34m)\u001b[0m\u001b[0;34m\u001b[0m\u001b[0;34m\u001b[0m\u001b[0m\n\u001b[1;32m     15\u001b[0m     \u001b[0mprint\u001b[0m\u001b[0;34m(\u001b[0m\u001b[0;34m\"pesos: {}\"\u001b[0m\u001b[0;34m.\u001b[0m\u001b[0mformat\u001b[0m\u001b[0;34m(\u001b[0m\u001b[0mweights\u001b[0m\u001b[0;34m[\u001b[0m\u001b[0mcamada\u001b[0m\u001b[0;34m]\u001b[0m\u001b[0;34m)\u001b[0m\u001b[0;34m)\u001b[0m\u001b[0;34m\u001b[0m\u001b[0;34m\u001b[0m\u001b[0m\n\u001b[0;32m---> 16\u001b[0;31m     \u001b[0mdw\u001b[0m\u001b[0;34m[\u001b[0m\u001b[0mcamada\u001b[0m\u001b[0;34m]\u001b[0m \u001b[0;34m+=\u001b[0m \u001b[0;34m[\u001b[0m\u001b[0mx\u001b[0m\u001b[0;34m*\u001b[0m\u001b[0merror_term\u001b[0m\u001b[0;34m[\u001b[0m\u001b[0mcamada\u001b[0m\u001b[0;34m]\u001b[0m \u001b[0;32mfor\u001b[0m \u001b[0mx\u001b[0m \u001b[0;32min\u001b[0m \u001b[0mwires\u001b[0m\u001b[0;34m[\u001b[0m\u001b[0mcamada\u001b[0m\u001b[0;34m-\u001b[0m\u001b[0;36m1\u001b[0m\u001b[0;34m]\u001b[0m\u001b[0;34m]\u001b[0m \u001b[0;31m#Atualiza o passo! lista do np para isso funcionar\u001b[0m\u001b[0;34m\u001b[0m\u001b[0;34m\u001b[0m\u001b[0m\n\u001b[0m\u001b[1;32m     17\u001b[0m \u001b[0;31m#    weights[camada] +=  [learnrate * w / epoch for w in dw[camada]] #atulizar pesos\u001b[0m\u001b[0;34m\u001b[0m\u001b[0;34m\u001b[0m\u001b[0;34m\u001b[0m\u001b[0m\n\u001b[1;32m     18\u001b[0m \u001b[0;31m#    weights[camada] +=  [learnrate * w / epoch for w in dw[camada]] #atulizar pesos\u001b[0m\u001b[0;34m\u001b[0m\u001b[0;34m\u001b[0m\u001b[0;34m\u001b[0m\u001b[0m\n",
      "\u001b[0;31mValueError\u001b[0m: operands could not be broadcast together with shapes (2,3) (3,2) (2,3) "
     ]
    }
   ],
   "source": [
    "epochs = 10\n",
    "b=barrinha(epochs)\n",
    "for epoch in range(epochs):\n",
    "    b.refresh(epoch)\n",
    "    print(\"epoch: {}/{} {}\".format(epoch + 1,epochs,b))\n",
    "    print(\"wires:\\n {}\".format(wires))\n",
    "    print(\"gradientes:\\n {}\".format(grads))\n",
    "    print('\\n')\n",
    "    next(foward())\n",
    "    next(backward(epoch + 1))\n",
    "    print('='*100+'\\n')"
   ]
  },
  {
   "cell_type": "code",
   "execution_count": null,
   "metadata": {},
   "outputs": [],
   "source": []
  },
  {
   "cell_type": "code",
   "execution_count": null,
   "metadata": {},
   "outputs": [],
   "source": []
  }
 ],
 "metadata": {
  "kernelspec": {
   "display_name": "Python 3",
   "language": "python",
   "name": "python3"
  },
  "language_info": {
   "codemirror_mode": {
    "name": "ipython",
    "version": 3
   },
   "file_extension": ".py",
   "mimetype": "text/x-python",
   "name": "python",
   "nbconvert_exporter": "python",
   "pygments_lexer": "ipython3",
   "version": "3.8.5"
  }
 },
 "nbformat": 4,
 "nbformat_minor": 4
}
