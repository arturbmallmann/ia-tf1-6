{
 "cells": [
  {
   "cell_type": "markdown",
   "metadata": {},
   "source": [
    "Tarefa 1\n",
    "\n",
    "\n",
    "Exercício de rede simples\n",
    "Abaixo, você usará o Numpy para calcular o output de uma rede simples com dois nós de input e um nó de output com\n",
    "uma função de ativação sigmóide. Para isso, será necessário:\n",
    "\n",
    "● Implementar a função sigmóide.\n",
    "\n",
    "● Calcular o output da rede.\n",
    "\n",
    "Para a exponenciação, é possível utilizar a função do numpy, np.exp .\n",
    "E o output da rede é\n",
    "Para a soma dos pesos, é possível fazer uma multiplicação e soma elemento à elemento simples, ou então usar a função\n",
    "de produto escalar function do Numpy"
   ]
  },
  {
   "cell_type": "code",
   "execution_count": 49,
   "metadata": {},
   "outputs": [],
   "source": [
    "import numpy as np\n",
    "sigmoid = lambda x: 1/(1 + np.exp(-x))"
   ]
  },
  {
   "cell_type": "code",
   "execution_count": 64,
   "metadata": {},
   "outputs": [],
   "source": [
    "inputs = [0.7,-0.3]\n",
    "weights = [0.1,0.8]\n",
    "bias = -0.1\n",
    "\n",
    "def output(inputs,weights):\n",
    "    return sigmoid(sum([w*x for w,x in zip (inputs,weights)]) + bias)"
   ]
  },
  {
   "cell_type": "code",
   "execution_count": 65,
   "metadata": {},
   "outputs": [
    {
     "name": "stdout",
     "output_type": "stream",
     "text": [
      "output: 0.4329070950345457\n"
     ]
    }
   ],
   "source": [
    "y = output(inputs,weights)\n",
    "print('output: {}'.format(y))"
   ]
  },
  {
   "cell_type": "code",
   "execution_count": 63,
   "metadata": {},
   "outputs": [
    {
     "data": {
      "text/plain": [
       "0.4329070950345457"
      ]
     },
     "execution_count": 63,
     "metadata": {},
     "output_type": "execute_result"
    }
   ],
   "source": []
  },
  {
   "cell_type": "code",
   "execution_count": null,
   "metadata": {},
   "outputs": [],
   "source": []
  }
 ],
 "metadata": {
  "kernelspec": {
   "display_name": "Python 3",
   "language": "python",
   "name": "python3"
  },
  "language_info": {
   "codemirror_mode": {
    "name": "ipython",
    "version": 3
   },
   "file_extension": ".py",
   "mimetype": "text/x-python",
   "name": "python",
   "nbconvert_exporter": "python",
   "pygments_lexer": "ipython3",
   "version": "3.8.5"
  }
 },
 "nbformat": 4,
 "nbformat_minor": 4
}
