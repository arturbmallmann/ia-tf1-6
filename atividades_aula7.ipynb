{
 "cells": [
  {
   "cell_type": "markdown",
   "metadata": {},
   "source": [
    "Tarefa 1\n",
    "\n",
    "\n",
    "Exercício de rede simples\n",
    "Abaixo, você usará o Numpy para calcular o output de uma rede simples com dois nós de input e um nó de output com\n",
    "uma função de ativação sigmóide. Para isso, será necessário:\n",
    "\n",
    "● Implementar a função sigmóide.\n",
    "\n",
    "● Calcular o output da rede.\n",
    "\n",
    "Para a exponenciação, é possível utilizar a função do numpy, np.exp .\n",
    "E o output da rede é\n",
    "Para a soma dos pesos, é possível fazer uma multiplicação e soma elemento à elemento simples, ou então usar a função\n",
    "de produto escalar function do Numpy"
   ]
  },
  {
   "cell_type": "code",
   "execution_count": 41,
   "metadata": {},
   "outputs": [
    {
     "data": {
      "text/plain": [
       "7.124576406741285e-218"
      ]
     },
     "execution_count": 41,
     "metadata": {},
     "output_type": "execute_result"
    }
   ],
   "source": [
    "import numpy as np\n",
    "sigmoid = lambda x: 1/(1 + np.exp(-x))\n",
    "\n",
    "sigmoid(-500)"
   ]
  },
  {
   "cell_type": "code",
   "execution_count": 39,
   "metadata": {},
   "outputs": [
    {
     "data": {
      "text/plain": [
       "2.718281828459045"
      ]
     },
     "execution_count": 39,
     "metadata": {},
     "output_type": "execute_result"
    }
   ],
   "source": [
    "np.exp(1)"
   ]
  },
  {
   "cell_type": "code",
   "execution_count": null,
   "metadata": {},
   "outputs": [],
   "source": []
  }
 ],
 "metadata": {
  "kernelspec": {
   "display_name": "Python 3",
   "language": "python",
   "name": "python3"
  },
  "language_info": {
   "codemirror_mode": {
    "name": "ipython",
    "version": 3
   },
   "file_extension": ".py",
   "mimetype": "text/x-python",
   "name": "python",
   "nbconvert_exporter": "python",
   "pygments_lexer": "ipython3",
   "version": "3.8.5"
  }
 },
 "nbformat": 4,
 "nbformat_minor": 4
}
